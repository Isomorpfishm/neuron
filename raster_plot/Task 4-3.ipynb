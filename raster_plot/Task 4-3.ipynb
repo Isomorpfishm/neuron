{
 "cells": [
  {
   "cell_type": "code",
   "execution_count": 1,
   "id": "729323e4",
   "metadata": {},
   "outputs": [],
   "source": [
    "import numpy as np\n",
    "import pandas as pd\n",
    "\n",
    "from scipy.signal import find_peaks\n",
    "from sklearn import preprocessing\n",
    "\n",
    "import matplotlib.pyplot as plt\n",
    "import matplotlib\n",
    "from matplotlib.colors import to_rgb, to_rgba\n",
    "matplotlib.rcParams['font.size'] = 8.0\n",
    "\n",
    "import os\n",
    "import sys"
   ]
  },
  {
   "cell_type": "markdown",
   "id": "bf4dfb8c",
   "metadata": {},
   "source": [
    "### <font color='red'><b>Note: User has to specify the number of data files in the directory with the variable `num_data`, the number of events used to calculate the spike probability with the variable `grp`, and also the stimulation pattern used to the variable `ID`, and the experimental circuit number `circuit`.</b></font> "
   ]
  },
  {
   "cell_type": "markdown",
   "id": "476ecd4e",
   "metadata": {},
   "source": [
    "# Part 0: Preliminary variables (User-specified)"
   ]
  },
  {
   "cell_type": "code",
   "execution_count": 2,
   "id": "4ceba295",
   "metadata": {},
   "outputs": [],
   "source": [
    "# As for now, we have only six data files and we want to calculate spike probiblity using three events.\n",
    "# Hence, we will have only two repetitions for this stimulation pattern.\n",
    "# Make sure that `num_data` / `grp` <= 10.\n",
    "num_data = 500\n",
    "grp = 50"
   ]
  },
  {
   "cell_type": "code",
   "execution_count": 3,
   "id": "06d1feba",
   "metadata": {},
   "outputs": [],
   "source": [
    "# Format of 125 different stimulation patterns:\n",
    "\n",
    "# Each pattern consists of 3 stimulation events (in temporal order). Let us call these events X,Y, and Z. \n",
    "# X,Y,Z in {0,1,2,3,4}\n",
    "# 0: No stimulation occured\n",
    "# 1: Stimulation top left\n",
    "# 2: Stimulation top right\n",
    "# 3: Stimulation bot right\n",
    "# 4: Stimulation bot left\n",
    "# The id (in {0,...,124} is a weighted sum of X,Y,Z: ID = X * 1 + Y * 5 + Z * 25)\n",
    "\n",
    "# Example: the ID=77 means: X=2,Y=0,Z=3 --> The stimulation pattern consists of a stimulus at top right \n",
    "#          for the first time event, no stimulation at second time event, and bottom right for last time event."
   ]
  },
  {
   "cell_type": "code",
   "execution_count": 4,
   "id": "e66f22ef",
   "metadata": {},
   "outputs": [],
   "source": [
    "ID = 117\n",
    "circuit = 0"
   ]
  },
  {
   "cell_type": "markdown",
   "id": "5fb80453",
   "metadata": {},
   "source": [
    "# Part 1: Data processing and Finding spikes"
   ]
  },
  {
   "cell_type": "code",
   "execution_count": 5,
   "id": "9b8665fb",
   "metadata": {},
   "outputs": [],
   "source": [
    "dir_inputs = 'C:/Users/yyoon.ces/Desktop/NEURON 8.0 AMD64/Task/volt-data-ID-'\n",
    "dir_inputs = dir_inputs + str(ID) + '/'\n",
    "\n",
    "data_tl, data_tr, data_br, data_bl = [], [], [], []\n",
    "\n",
    "for i in range(num_data):   \n",
    "    path_tl = os.path.join(dir_inputs, str(i+1) +'_data_tl.txt')\n",
    "    path_tr = os.path.join(dir_inputs, str(i+1) +'_data_tr.txt')\n",
    "    path_br = os.path.join(dir_inputs, str(i+1) +'_data_br.txt')\n",
    "    path_bl = os.path.join(dir_inputs, str(i+1) +'_data_bl.txt')\n",
    "    \n",
    "    x = pd.read_csv(path_tl, sep=\"\\t\")\n",
    "    data_tl.append(x)\n",
    "    x = pd.read_csv(path_tr, sep=\"\\t\")\n",
    "    data_tr.append(x)\n",
    "    x = pd.read_csv(path_br, sep=\"\\t\")\n",
    "    data_br.append(x)\n",
    "    x = pd.read_csv(path_bl, sep=\"\\t\")\n",
    "    data_bl.append(x)"
   ]
  },
  {
   "cell_type": "code",
   "execution_count": 6,
   "id": "63fc712b",
   "metadata": {},
   "outputs": [],
   "source": [
    "for i in range(num_data):\n",
    "    # renaming the columns\n",
    "    data_tl[i].columns = [\"time\", \"neuron9\", \"neuron10\", \"neuron11\"]\n",
    "    data_tr[i].columns = [\"time\", \"neuron0\", \"neuron1\", \"neuron2\"]\n",
    "    data_br[i].columns = [\"time\", \"neuron3\", \"neuron4\", \"neuron5\"]\n",
    "    data_bl[i].columns = [\"time\", \"neuron6\", \"neuron7\", \"neuron8\"]\n",
    "    \n",
    "    data_tl[i]['avg'] = data_tl[i][['neuron9', 'neuron10', 'neuron11']].mean(axis=1)\n",
    "    data_tr[i]['avg'] = data_tr[i][['neuron0', 'neuron1', 'neuron2']].mean(axis=1)\n",
    "    data_br[i]['avg'] = data_br[i][['neuron3', 'neuron4', 'neuron5']].mean(axis=1)\n",
    "    data_bl[i]['avg'] = data_bl[i][['neuron6', 'neuron7', 'neuron8']].mean(axis=1)"
   ]
  },
  {
   "cell_type": "code",
   "execution_count": 7,
   "id": "dbe0d1d7",
   "metadata": {},
   "outputs": [],
   "source": [
    "for i in range(num_data):\n",
    "    # discard the the first 25 seconds\n",
    "    data_tl[i] = data_tl[i][1200:2201]\n",
    "    data_tr[i] = data_tr[i][1200:2201]\n",
    "    data_br[i] = data_br[i][1200:2201]\n",
    "    data_bl[i] = data_bl[i][1200:2201]\n",
    "    \n",
    "    data_tl[i] = data_tl[i].reset_index(drop=True)\n",
    "    data_tr[i] = data_tr[i].reset_index(drop=True)\n",
    "    data_br[i] = data_br[i].reset_index(drop=True)\n",
    "    data_bl[i] = data_bl[i].reset_index(drop=True)"
   ]
  },
  {
   "cell_type": "code",
   "execution_count": 8,
   "id": "bb009709",
   "metadata": {},
   "outputs": [],
   "source": [
    "# calc the avg of voltages from the axons of three neurons\n",
    "avg_tl, avg_tr, avg_br, avg_bl = [], [], [], []\n",
    "peaks_tl, peaks_tr, peaks_br, peaks_bl = [], [], [], []\n",
    "\n",
    "for i in range(num_data):\n",
    "    avg_tl.append(data_tl[i][\"avg\"])\n",
    "    avg_tr.append(data_tr[i][\"avg\"])\n",
    "    avg_br.append(data_br[i][\"avg\"])\n",
    "    avg_bl.append(data_bl[i][\"avg\"])\n",
    "    \n",
    "    a, _ = find_peaks(data_tl[i][\"avg\"], height=-55, distance=120)\n",
    "    peaks_tl.append(a)\n",
    "    a, _ = find_peaks(data_tr[i][\"avg\"], height=-55, distance=120)\n",
    "    peaks_tr.append(a)\n",
    "    a, _ = find_peaks(data_br[i][\"avg\"], height=-55, distance=120)\n",
    "    peaks_br.append(a)\n",
    "    a, _ = find_peaks(data_bl[i][\"avg\"], height=-55, distance=120)\n",
    "    peaks_bl.append(a)"
   ]
  },
  {
   "cell_type": "markdown",
   "id": "5a1adba3",
   "metadata": {},
   "source": [
    "# Part 2: Calculate spiking probability"
   ]
  },
  {
   "cell_type": "markdown",
   "id": "da322ff8",
   "metadata": {},
   "source": [
    "## Convert time indices to time units"
   ]
  },
  {
   "cell_type": "markdown",
   "id": "aa33a51e",
   "metadata": {},
   "source": [
    "Note that one index corresponds to 0.025 ms, so 1000 indices make up for 50 ms."
   ]
  },
  {
   "cell_type": "code",
   "execution_count": 9,
   "id": "dd9ab2dd",
   "metadata": {},
   "outputs": [],
   "source": [
    "for j in range(num_data):\n",
    "    for i in range(len(peaks_tl[j])):\n",
    "        peaks_tl[j][i] = peaks_tl[j][i] * 0.025\n",
    "    \n",
    "    for i in range(len(peaks_tr[j])):\n",
    "        peaks_tr[j][i] = peaks_tr[j][i] * 0.025\n",
    "    \n",
    "    for i in range(len(peaks_br[j])):\n",
    "        peaks_br[j][i] = peaks_br[j][i] * 0.025\n",
    "    \n",
    "    for i in range(len(peaks_bl[j])):\n",
    "        peaks_bl[j][i] = peaks_bl[j][i] * 0.025"
   ]
  },
  {
   "cell_type": "markdown",
   "id": "85cc84e1",
   "metadata": {},
   "source": [
    "## Convert numerical peaks to binary values"
   ]
  },
  {
   "cell_type": "code",
   "execution_count": 10,
   "id": "39164362",
   "metadata": {},
   "outputs": [],
   "source": [
    "df = np.zeros((4, 25, num_data))\n",
    "peaks = [peaks_tl, peaks_tr, peaks_br, peaks_bl]"
   ]
  },
  {
   "cell_type": "code",
   "execution_count": 11,
   "id": "cd535c9f",
   "metadata": {},
   "outputs": [],
   "source": [
    "for i in range(4):\n",
    "    arr_sub1 = peaks[i]\n",
    "    for j in range(num_data):\n",
    "        arr_sub2 = arr_sub1[j]\n",
    "        for k in range(len(arr_sub2)):\n",
    "            x = arr_sub2[k]\n",
    "            df[i][x][j] = 1"
   ]
  },
  {
   "cell_type": "markdown",
   "id": "f0aafe1e",
   "metadata": {},
   "source": [
    "## Calculate spike probability"
   ]
  },
  {
   "cell_type": "markdown",
   "id": "6f3114d2",
   "metadata": {},
   "source": [
    "Again as a reminder, user needs to specify how many data inputs are going to be grouped into one in the `grp` variable. In the experimental data, 180 runs were grouped together into one to calculate the spiking probability and we have ten repetitions in total. That is, we have 1800 data assigned into 180 runs per group. Therefore, we have `np.shape(df) = (4, 25, 10)`."
   ]
  },
  {
   "cell_type": "markdown",
   "id": "2d6d5957",
   "metadata": {},
   "source": [
    "In our simulation case, suppose that we have data on only 6 trials, and we wish to calculate the probability of spike by observing 3 random trials. Then, we have 2 groups as a result, since six trails were divided into three trials per group. Therefore, we have `np.shape(df) = (4, 25, 2)`."
   ]
  },
  {
   "cell_type": "code",
   "execution_count": 12,
   "id": "515f70a8",
   "metadata": {},
   "outputs": [],
   "source": [
    "dim1, dim2, dim3 = np.shape(df)"
   ]
  },
  {
   "cell_type": "code",
   "execution_count": 13,
   "id": "236f5927",
   "metadata": {},
   "outputs": [],
   "source": [
    "df_prob = []\n",
    "\n",
    "for i in range(int(dim3/grp)):\n",
    "    if i == 0:\n",
    "        df_prob = df[:, :, :grp*(i+1)].mean(axis=2)\n",
    "        df_prob = np.array(df_prob)\n",
    "        df_prob = np.expand_dims(df_prob, axis=2)\n",
    "        #print(\"dim of df_prob i = 0, \", np.shape(df_prob))\n",
    "    else:  \n",
    "        x = df[:, :, grp*(i):grp*(i+1)].mean(axis=2)\n",
    "        x = np.expand_dims(x, axis=2)\n",
    "        x = np.array(x)\n",
    "        #print(\"dim of x\", np.shape(x))\n",
    "        df_prob = np.concatenate((df_prob, x), axis=2)"
   ]
  },
  {
   "cell_type": "code",
   "execution_count": 14,
   "id": "d89d7433",
   "metadata": {},
   "outputs": [
    {
     "data": {
      "text/plain": [
       "(4, 25, 10)"
      ]
     },
     "execution_count": 14,
     "metadata": {},
     "output_type": "execute_result"
    }
   ],
   "source": [
    "np.shape(df_prob)"
   ]
  },
  {
   "cell_type": "markdown",
   "id": "62d63740",
   "metadata": {},
   "source": [
    "Do note that the last dimension is the number of repetitions that we aim to achieve."
   ]
  },
  {
   "cell_type": "markdown",
   "id": "f1301f9f",
   "metadata": {},
   "source": [
    "# Part 3: Importing experimental data"
   ]
  },
  {
   "cell_type": "code",
   "execution_count": 15,
   "id": "d8bbc701",
   "metadata": {},
   "outputs": [
    {
     "data": {
      "text/plain": [
       "(30, 125, 10, 25, 4)"
      ]
     },
     "execution_count": 15,
     "metadata": {},
     "output_type": "execute_result"
    }
   ],
   "source": [
    "filename = 'C:/Users/yyoon.ces/Downloads/EventPlot/histograms.npy'\n",
    "data = np.load(filename)\n",
    "np.shape(data)"
   ]
  },
  {
   "cell_type": "code",
   "execution_count": 16,
   "id": "22db99ad",
   "metadata": {},
   "outputs": [
    {
     "data": {
      "text/plain": [
       "(125, 10, 25, 4)"
      ]
     },
     "execution_count": 16,
     "metadata": {},
     "output_type": "execute_result"
    }
   ],
   "source": [
    "circuit_num = data[circuit, :]\n",
    "np.shape(circuit_num)"
   ]
  },
  {
   "cell_type": "code",
   "execution_count": 17,
   "id": "b4999f45",
   "metadata": {},
   "outputs": [
    {
     "data": {
      "text/plain": [
       "(125, 4, 25, 10)"
      ]
     },
     "execution_count": 17,
     "metadata": {},
     "output_type": "execute_result"
    }
   ],
   "source": [
    "circuit_num_t = []\n",
    "\n",
    "for i in range(125):\n",
    "    temp = np.transpose(circuit_num[i])\n",
    "    circuit_num_t.append(temp)\n",
    "    \n",
    "np.shape(circuit_num_t)"
   ]
  },
  {
   "cell_type": "markdown",
   "id": "e2b9f08b",
   "metadata": {},
   "source": [
    "The variable `cs` actually points to the circuit stimulated using the pattern `ID` defined above."
   ]
  },
  {
   "cell_type": "code",
   "execution_count": 18,
   "id": "2ac55772",
   "metadata": {},
   "outputs": [],
   "source": [
    "cs = circuit_num_t[ID]"
   ]
  },
  {
   "cell_type": "code",
   "execution_count": 19,
   "id": "c500006f",
   "metadata": {},
   "outputs": [],
   "source": [
    "exp_data_tl, exp_data_tr, exp_data_br, exp_data_bl = cs[0], cs[1], cs[2], cs[3]"
   ]
  },
  {
   "cell_type": "code",
   "execution_count": 20,
   "id": "447328bc",
   "metadata": {},
   "outputs": [],
   "source": [
    "# data_**_copy will be used to specify the alpha values afterwards\n",
    "exp_data_tr_copy = exp_data_tr.copy()\n",
    "exp_data_tl_copy = exp_data_tl.copy()\n",
    "exp_data_br_copy = exp_data_br.copy()\n",
    "exp_data_bl_copy = exp_data_bl.copy()"
   ]
  },
  {
   "cell_type": "code",
   "execution_count": 21,
   "id": "123d7a28",
   "metadata": {},
   "outputs": [],
   "source": [
    "for i in range(25):\n",
    "    for j in range(10):\n",
    "        if exp_data_tl[i][j] >= 0.09333333:\n",
    "            exp_data_tl[i][j] = j + 1\n",
    "        else:\n",
    "            exp_data_tl[i][j] = 0\n",
    "            exp_data_tl_copy[i][j] = 0\n",
    "            \n",
    "        if exp_data_tr[i][j] >= 0.09333333:\n",
    "            exp_data_tr[i][j] = j + 1\n",
    "        else:\n",
    "            exp_data_tr[i][j] = 0\n",
    "            exp_data_tr_copy[i][j] = 0\n",
    "            \n",
    "        if exp_data_br[i][j] >= 0.09333333:\n",
    "            exp_data_br[i][j] = j + 1\n",
    "        else:\n",
    "            exp_data_br[i][j] = 0\n",
    "            exp_data_br_copy[i][j] = 0\n",
    "\n",
    "        if exp_data_bl[i][j] >= 0.09333333:\n",
    "            exp_data_bl[i][j] = j + 1\n",
    "        else:\n",
    "            exp_data_bl[i][j] = 0\n",
    "            exp_data_bl_copy[i][j] = 0"
   ]
  },
  {
   "cell_type": "code",
   "execution_count": 22,
   "id": "b7814b48",
   "metadata": {},
   "outputs": [],
   "source": [
    "# normalise the data_**_copy to [0, 1] so that it matches with the alpha value [0, 1]\n",
    "min_max_scaler = preprocessing.MinMaxScaler()\n",
    "exp_data_tr_minmax = min_max_scaler.fit_transform(exp_data_tr_copy)\n",
    "exp_data_tl_minmax = min_max_scaler.fit_transform(exp_data_tl_copy)\n",
    "exp_data_br_minmax = min_max_scaler.fit_transform(exp_data_br_copy)\n",
    "exp_data_bl_minmax = min_max_scaler.fit_transform(exp_data_bl_copy)"
   ]
  },
  {
   "cell_type": "code",
   "execution_count": 23,
   "id": "eadb37cb",
   "metadata": {},
   "outputs": [
    {
     "data": {
      "text/plain": [
       "(25, 10)"
      ]
     },
     "execution_count": 23,
     "metadata": {},
     "output_type": "execute_result"
    }
   ],
   "source": [
    "np.shape(exp_data_tr_minmax)"
   ]
  },
  {
   "cell_type": "code",
   "execution_count": 24,
   "id": "cdd15556",
   "metadata": {},
   "outputs": [],
   "source": [
    "exp_rgba_colors_tr = np.zeros((25, 10, 4))\n",
    "exp_rgba_colors_tl = np.zeros((25, 10, 4))\n",
    "exp_rgba_colors_br = np.zeros((25, 10, 4))\n",
    "exp_rgba_colors_bl = np.zeros((25, 10, 4))\n",
    "\n",
    "# the first three columns specift the rgb code (normalised to [0, 1])\n",
    "for i in range(3):\n",
    "    exp_rgba_colors_tl[:, :, i] = 0.0\n",
    "    exp_rgba_colors_tr[:, :, i] = 0.0\n",
    "    exp_rgba_colors_br[:, :, i] = 0.0 \n",
    "    exp_rgba_colors_bl[:, :, i] = 0.0\n",
    "\n",
    "for i in range(25):\n",
    "    exp_alphas_tr = exp_data_tr_minmax[i]\n",
    "    exp_alphas_tl = exp_data_tl_minmax[i]\n",
    "    exp_alphas_br = exp_data_br_minmax[i]\n",
    "    exp_alphas_bl = exp_data_bl_minmax[i]\n",
    "    \n",
    "    for j in range(10):\n",
    "        # the fourth column needs to be your alphas\n",
    "        exp_rgba_colors_tr[i, j, 3] = exp_alphas_tr[j]\n",
    "        exp_rgba_colors_tl[i, j, 3] = exp_alphas_tl[j]\n",
    "        exp_rgba_colors_br[i, j, 3] = exp_alphas_br[j]\n",
    "        exp_rgba_colors_bl[i, j, 3] = exp_alphas_bl[j]"
   ]
  },
  {
   "cell_type": "markdown",
   "id": "87e3a4bf",
   "metadata": {},
   "source": [
    "# Part 4: Temporal raster plot"
   ]
  },
  {
   "cell_type": "markdown",
   "id": "7b755046",
   "metadata": {},
   "source": [
    "## Preparation for self-defined value-dependent alpha values"
   ]
  },
  {
   "cell_type": "markdown",
   "id": "07bce7e8",
   "metadata": {},
   "source": [
    "From this line onwards, we have the similar situation as `Task 4-1 (Experimental Data).ipynb`. "
   ]
  },
  {
   "cell_type": "code",
   "execution_count": 25,
   "id": "05014b2c",
   "metadata": {},
   "outputs": [],
   "source": [
    "data_tl, data_tr, data_br, data_bl = df_prob[0], df_prob[1], df_prob[2], df_prob[3]"
   ]
  },
  {
   "cell_type": "code",
   "execution_count": 26,
   "id": "240b4731",
   "metadata": {},
   "outputs": [],
   "source": [
    "# data_**_copy will be used to specify the alpha values afterwards\n",
    "data_tr_copy = data_tr.copy()\n",
    "data_tl_copy = data_tl.copy()\n",
    "data_br_copy = data_br.copy()\n",
    "data_bl_copy = data_bl.copy()"
   ]
  },
  {
   "cell_type": "code",
   "execution_count": 27,
   "id": "d6423281",
   "metadata": {},
   "outputs": [],
   "source": [
    "row, col = np.shape(data_tl)"
   ]
  },
  {
   "cell_type": "markdown",
   "id": "404ba572",
   "metadata": {},
   "source": [
    "As a cautious reminder, `col` variable is also the number of repetitions while `row` is always fixed at 25 which are the time units."
   ]
  },
  {
   "cell_type": "markdown",
   "id": "f3fc2ab6",
   "metadata": {},
   "source": [
    "Now, setting threshold for the probability. Since we have very little data now, we set 0.2 as the threshold temporarily."
   ]
  },
  {
   "cell_type": "code",
   "execution_count": 28,
   "id": "c8e995e9",
   "metadata": {},
   "outputs": [],
   "source": [
    "thres = 0.1"
   ]
  },
  {
   "cell_type": "code",
   "execution_count": 29,
   "id": "195895b7",
   "metadata": {},
   "outputs": [],
   "source": [
    "for i in range(25):\n",
    "    for j in range(col):\n",
    "        if data_tl[i][j] >= thres:\n",
    "            data_tl[i][j] = j + 1\n",
    "        else:\n",
    "            data_tl[i][j] = 0\n",
    "            data_tl_copy[i][j] = 0\n",
    "            \n",
    "        if data_tr[i][j] >= thres:\n",
    "            data_tr[i][j] = j + 1\n",
    "        else:\n",
    "            data_tr[i][j] = 0\n",
    "            data_tr_copy[i][j] = 0\n",
    "            \n",
    "        if data_br[i][j] >= thres:\n",
    "            data_br[i][j] = j + 1\n",
    "        else:\n",
    "            data_br[i][j] = 0\n",
    "            data_br_copy[i][j] = 0\n",
    "\n",
    "        if data_bl[i][j] >= thres:\n",
    "            data_bl[i][j] = j + 1\n",
    "        else:\n",
    "            data_bl[i][j] = 0\n",
    "            data_bl_copy[i][j] = 0"
   ]
  },
  {
   "cell_type": "code",
   "execution_count": 30,
   "id": "3013351c",
   "metadata": {},
   "outputs": [],
   "source": [
    "# normalise the data_**_copy to [0, 1] so that it matches with the alpha value [0, 1]\n",
    "data_tr_minmax = min_max_scaler.fit_transform(data_tr_copy)\n",
    "data_tl_minmax = min_max_scaler.fit_transform(data_tl_copy)\n",
    "data_br_minmax = min_max_scaler.fit_transform(data_br_copy)\n",
    "data_bl_minmax = min_max_scaler.fit_transform(data_bl_copy)"
   ]
  },
  {
   "cell_type": "code",
   "execution_count": 31,
   "id": "6d1fa754",
   "metadata": {},
   "outputs": [],
   "source": [
    "rgba_colors_tr = np.zeros((25, col, 4))\n",
    "rgba_colors_tl = np.zeros((25, col, 4))\n",
    "rgba_colors_br = np.zeros((25, col, 4))\n",
    "rgba_colors_bl = np.zeros((25, col, 4))\n",
    "\n",
    "# the first three columns specift the rgb code (normalised to [0, 1])\n",
    "rgba_colors_tl[:, :, 0] = 1.0    # red\n",
    "rgba_colors_tr[:, :, 1] = 1.0    # green\n",
    "rgba_colors_br[:, :, 2] = 1.0    # blue\n",
    "rgba_colors_bl[:, :, 0] = 0.980  # orange\n",
    "rgba_colors_bl[:, :, 1] = 0.313  # orange\n",
    "\n",
    "for i in range(25):\n",
    "    alphas_tr = data_tr_minmax[i]\n",
    "    alphas_tl = data_tl_minmax[i]\n",
    "    alphas_br = data_br_minmax[i]\n",
    "    alphas_bl = data_bl_minmax[i]\n",
    "    \n",
    "    for j in range(col):\n",
    "        # the fourth column needs to be your alphas\n",
    "        rgba_colors_tr[i, j, 3] = alphas_tr[j]\n",
    "        rgba_colors_tl[i, j, 3] = alphas_tl[j]\n",
    "        rgba_colors_br[i, j, 3] = alphas_br[j]\n",
    "        rgba_colors_bl[i, j, 3] = alphas_bl[j]"
   ]
  },
  {
   "cell_type": "markdown",
   "id": "f165e197",
   "metadata": {},
   "source": [
    "## Visualisation"
   ]
  },
  {
   "cell_type": "code",
   "execution_count": 32,
   "id": "d9d87063",
   "metadata": {},
   "outputs": [],
   "source": [
    "lineoffsets1 = [i+1 for i in range(25)]\n",
    "linelengths = [0.5 for i in range(25)]\n",
    "\n",
    "# linelengths1 = [0.8 for i in range(25)]\n",
    "# linelengths2 = [0.6 for i in range(25)]\n",
    "# linelengths3 = [0.4 for i in range(25)]\n",
    "# linelengths4 = [0.2 for i in range(25)]\n",
    "\n",
    "x_range = np.linspace(1, 25, 25, endpoint=True)\n",
    "y_range = np.linspace(1, 10, 10, endpoint=True)\n",
    "color_set = [rgba_colors_tl, rgba_colors_tr, rgba_colors_br, rgba_colors_bl]\n",
    "exp_color_set = [exp_rgba_colors_tl, exp_rgba_colors_tr, exp_rgba_colors_br, exp_rgba_colors_bl]"
   ]
  },
  {
   "cell_type": "code",
   "execution_count": 33,
   "id": "949f63d1",
   "metadata": {},
   "outputs": [
    {
     "data": {
      "image/png": "[encoded data removed]",
      "text/plain": [
       "<Figure size 1152x648 with 4 Axes>"
      ]
     },
     "metadata": {
      "needs_background": "light"
     },
     "output_type": "display_data"
    }
   ],
   "source": [
    "fig, axs = plt.subplots(2, 2)\n",
    "\n",
    "for i in range(2):\n",
    "    for j in range(2):\n",
    "        if (i == 0 and j == 0):\n",
    "            data = data_tl\n",
    "            exp_data = exp_data_tl\n",
    "            idx = 0\n",
    "        if (i == 0 and j == 1):\n",
    "            data = data_tr\n",
    "            exp_data = exp_data_tr\n",
    "            idx = 1\n",
    "        if (i == 1 and j == 1):\n",
    "            data = data_br\n",
    "            exp_data = exp_data_br\n",
    "            idx = 2\n",
    "        if (i == 1 and j == 0):\n",
    "            data = data_bl\n",
    "            exp_data = exp_data_bl\n",
    "            idx = 3\n",
    "            \n",
    "        axs[i, j].eventplot(data, \n",
    "                            colors=color_set[idx], \n",
    "                            lineoffsets=lineoffsets1, \n",
    "                            linelengths=linelengths,\n",
    "                            orientation='vertical')\n",
    "        \n",
    "        axs[i, j].eventplot(exp_data, \n",
    "                            colors=exp_color_set[idx],\n",
    "                            linestyles='dotted',\n",
    "                            lineoffsets=lineoffsets1, \n",
    "                            linelengths=linelengths,\n",
    "                            orientation='vertical')\n",
    "        \n",
    "        axs[i, j].set_xlim(0.5, 25.5)\n",
    "        axs[i, j].set_ylim(0.5, 10.5)\n",
    "        axs[i, j].set_xticks(x_range)\n",
    "        axs[i, j].set_yticks(y_range)\n",
    "        axs[i, j].set_ylabel(\"Repetitions\", fontsize = 14)\n",
    "        axs[i, j].set_xlabel(\"Time units\", fontsize = 14)\n",
    "\n",
    "fig.suptitle('Circuit[0] ID = 117 (Threshold = 0.1) Experimental and Simulation Results G3', \n",
    "             fontweight = \"bold\", \n",
    "             fontsize = 18)\n",
    "fig.tight_layout()\n",
    "fig.set_size_inches(16, 9)\n",
    "fig.savefig('Circuit[0]_ID[117]_G3.png', dpi=600)"
   ]
  },
  {
   "cell_type": "code",
   "execution_count": null,
   "id": "b626a214",
   "metadata": {},
   "outputs": [],
   "source": []
  }
 ],
 "metadata": {
  "kernelspec": {
   "display_name": "Python 3",
   "language": "python",
   "name": "python3"
  },
  "language_info": {
   "codemirror_mode": {
    "name": "ipython",
    "version": 3
   },
   "file_extension": ".py",
   "mimetype": "text/x-python",
   "name": "python",
   "nbconvert_exporter": "python",
   "pygments_lexer": "ipython3",
   "version": "3.8.8"
  }
 },
 "nbformat": 4,
 "nbformat_minor": 5
}
