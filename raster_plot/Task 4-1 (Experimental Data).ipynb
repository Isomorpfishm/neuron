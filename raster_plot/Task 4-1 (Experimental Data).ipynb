{
 "cells": [
  {
   "cell_type": "code",
   "execution_count": 1,
   "metadata": {},
   "outputs": [],
   "source": [
    "from sklearn import preprocessing\n",
    "import numpy as np\n",
    "\n",
    "from matplotlib.colors import to_rgb, to_rgba\n",
    "import matplotlib.pyplot as plt\n",
    "import matplotlib\n",
    "matplotlib.rcParams['font.size'] = 8.0"
   ]
  },
  {
   "cell_type": "code",
   "execution_count": 2,
   "metadata": {},
   "outputs": [],
   "source": [
    "filename = 'C:/Users/yyoon.ces/Downloads/histograms.npy'\n",
    "data = np.load(filename)"
   ]
  },
  {
   "cell_type": "code",
   "execution_count": 3,
   "metadata": {},
   "outputs": [
    {
     "data": {
      "text/plain": [
       "(30, 125, 10, 25, 4)"
      ]
     },
     "execution_count": 3,
     "metadata": {},
     "output_type": "execute_result"
    }
   ],
   "source": [
    "np.shape(data)"
   ]
  },
  {
   "cell_type": "code",
   "execution_count": 4,
   "metadata": {},
   "outputs": [
    {
     "data": {
      "text/plain": [
       "(125, 10, 25, 4)"
      ]
     },
     "execution_count": 4,
     "metadata": {},
     "output_type": "execute_result"
    }
   ],
   "source": [
    "circuit_one = data[0, :]\n",
    "np.shape(circuit_one)"
   ]
  },
  {
   "cell_type": "code",
   "execution_count": 5,
   "metadata": {},
   "outputs": [
    {
     "data": {
      "text/plain": [
       "(10, 25, 4)"
      ]
     },
     "execution_count": 5,
     "metadata": {},
     "output_type": "execute_result"
    }
   ],
   "source": [
    "np.shape(circuit_one[0])"
   ]
  },
  {
   "cell_type": "code",
   "execution_count": 6,
   "metadata": {},
   "outputs": [],
   "source": [
    "circuit_one_t = []\n",
    "\n",
    "for i in range(125):\n",
    "    temp = np.transpose(circuit_one[i])\n",
    "    circuit_one_t.append(temp)"
   ]
  },
  {
   "cell_type": "code",
   "execution_count": 7,
   "metadata": {},
   "outputs": [
    {
     "data": {
      "text/plain": [
       "(125, 4, 25, 10)"
      ]
     },
     "execution_count": 7,
     "metadata": {},
     "output_type": "execute_result"
    }
   ],
   "source": [
    "np.shape(circuit_one_t)"
   ]
  },
  {
   "cell_type": "code",
   "execution_count": 8,
   "metadata": {},
   "outputs": [],
   "source": [
    "cs = circuit_one_t[124]"
   ]
  },
  {
   "cell_type": "code",
   "execution_count": 9,
   "metadata": {},
   "outputs": [],
   "source": [
    "data_tl, data_tr, data_br, data_bl = cs[0], cs[1], cs[2], cs[3]"
   ]
  },
  {
   "cell_type": "code",
   "execution_count": 10,
   "metadata": {},
   "outputs": [],
   "source": [
    "# data_**_copy will be used to specify the alpha values afterwards\n",
    "data_tr_copy = data_tr.copy()\n",
    "data_tl_copy = data_tl.copy()\n",
    "data_br_copy = data_br.copy()\n",
    "data_bl_copy = data_bl.copy()"
   ]
  },
  {
   "cell_type": "code",
   "execution_count": 11,
   "metadata": {},
   "outputs": [
    {
     "data": {
      "text/plain": [
       "array([[0.04666667, 0.04666667, 0.01333333, 0.04      , 0.04      ,\n",
       "        0.06      , 0.04      , 0.03333333, 0.04      , 0.04      ],\n",
       "       [0.09333333, 0.11333333, 0.16666667, 0.10666667, 0.15333333,\n",
       "        0.13333333, 0.16      , 0.09333333, 0.12      , 0.11333333],\n",
       "       [0.04      , 0.06666667, 0.04      , 0.05333333, 0.05333333,\n",
       "        0.03333333, 0.08      , 0.02      , 0.04666667, 0.04      ],\n",
       "       [0.02666667, 0.03333333, 0.06      , 0.04      , 0.00666667,\n",
       "        0.01333333, 0.02666667, 0.05333333, 0.01333333, 0.04      ],\n",
       "       [0.00666667, 0.01333333, 0.        , 0.03333333, 0.02666667,\n",
       "        0.01333333, 0.00666667, 0.01333333, 0.01333333, 0.00666667],\n",
       "       [0.03333333, 0.02      , 0.01333333, 0.01333333, 0.00666667,\n",
       "        0.00666667, 0.00666667, 0.01333333, 0.00666667, 0.        ],\n",
       "       [0.00666667, 0.00666667, 0.        , 0.        , 0.00666667,\n",
       "        0.02      , 0.        , 0.02666667, 0.01333333, 0.01333333],\n",
       "       [0.00666667, 0.02666667, 0.02      , 0.00666667, 0.01333333,\n",
       "        0.02      , 0.00666667, 0.02      , 0.00666667, 0.01333333],\n",
       "       [0.00666667, 0.02      , 0.01333333, 0.00666667, 0.02      ,\n",
       "        0.01333333, 0.        , 0.00666667, 0.01333333, 0.        ],\n",
       "       [0.00666667, 0.01333333, 0.00666667, 0.01333333, 0.00666667,\n",
       "        0.02      , 0.02      , 0.02      , 0.00666667, 0.        ],\n",
       "       [0.        , 0.00666667, 0.        , 0.        , 0.        ,\n",
       "        0.00666667, 0.        , 0.01333333, 0.        , 0.00666667],\n",
       "       [0.00666667, 0.02666667, 0.01333333, 0.00666667, 0.        ,\n",
       "        0.01333333, 0.        , 0.        , 0.01333333, 0.00666667],\n",
       "       [0.01333333, 0.00666667, 0.01333333, 0.        , 0.01333333,\n",
       "        0.00666667, 0.02      , 0.00666667, 0.02      , 0.        ],\n",
       "       [0.        , 0.00666667, 0.01333333, 0.00666667, 0.02666667,\n",
       "        0.        , 0.        , 0.01333333, 0.        , 0.01333333],\n",
       "       [0.        , 0.00666667, 0.00666667, 0.00666667, 0.        ,\n",
       "        0.        , 0.        , 0.        , 0.00666667, 0.01333333],\n",
       "       [0.00666667, 0.00666667, 0.02      , 0.00666667, 0.00666667,\n",
       "        0.02      , 0.00666667, 0.02      , 0.02      , 0.00666667],\n",
       "       [0.02666667, 0.        , 0.01333333, 0.01333333, 0.00666667,\n",
       "        0.00666667, 0.01333333, 0.02666667, 0.        , 0.00666667],\n",
       "       [0.01333333, 0.        , 0.01333333, 0.01333333, 0.01333333,\n",
       "        0.00666667, 0.01333333, 0.        , 0.        , 0.00666667],\n",
       "       [0.03333333, 0.01333333, 0.01333333, 0.01333333, 0.00666667,\n",
       "        0.        , 0.02      , 0.02      , 0.02      , 0.00666667],\n",
       "       [0.        , 0.00666667, 0.01333333, 0.        , 0.02      ,\n",
       "        0.        , 0.        , 0.00666667, 0.02      , 0.02666667],\n",
       "       [0.        , 0.00666667, 0.03333333, 0.        , 0.        ,\n",
       "        0.00666667, 0.01333333, 0.00666667, 0.00666667, 0.        ],\n",
       "       [0.01333333, 0.01333333, 0.02      , 0.        , 0.02666667,\n",
       "        0.01333333, 0.        , 0.        , 0.02      , 0.01333333],\n",
       "       [0.        , 0.00666667, 0.00666667, 0.02      , 0.00666667,\n",
       "        0.        , 0.02      , 0.00666667, 0.01333333, 0.00666667],\n",
       "       [0.00666667, 0.01333333, 0.01333333, 0.02      , 0.01333333,\n",
       "        0.02      , 0.        , 0.        , 0.        , 0.00666667],\n",
       "       [0.00666667, 0.        , 0.00666667, 0.01333333, 0.00666667,\n",
       "        0.        , 0.        , 0.00666667, 0.        , 0.        ]])"
      ]
     },
     "execution_count": 11,
     "metadata": {},
     "output_type": "execute_result"
    }
   ],
   "source": [
    "data_tr_copy"
   ]
  },
  {
   "cell_type": "code",
   "execution_count": 12,
   "metadata": {},
   "outputs": [],
   "source": [
    "for i in range(25):\n",
    "    for j in range(10):\n",
    "        if data_tl[i][j] >= 0.09333333:\n",
    "            data_tl[i][j] = j + 1\n",
    "        else:\n",
    "            data_tl[i][j] = 0\n",
    "            data_tl_copy[i][j] = 0\n",
    "            \n",
    "        if data_tr[i][j] >= 0.09333333:\n",
    "            data_tr[i][j] = j + 1\n",
    "        else:\n",
    "            data_tr[i][j] = 0\n",
    "            data_tr_copy[i][j] = 0\n",
    "            \n",
    "        if data_br[i][j] >= 0.09333333:\n",
    "            data_br[i][j] = j + 1\n",
    "        else:\n",
    "            data_br[i][j] = 0\n",
    "            data_br_copy[i][j] = 0\n",
    "\n",
    "        if data_bl[i][j] >= 0.09333333:\n",
    "            data_bl[i][j] = j + 1\n",
    "        else:\n",
    "            data_bl[i][j] = 0\n",
    "            data_bl_copy[i][j] = 0"
   ]
  },
  {
   "cell_type": "code",
   "execution_count": 13,
   "metadata": {},
   "outputs": [],
   "source": [
    "# normalise the data_**_copy to [0, 1] so that it matches with the alpha value [0, 1]\n",
    "min_max_scaler = preprocessing.MinMaxScaler()\n",
    "data_tr_minmax = min_max_scaler.fit_transform(data_tr_copy)\n",
    "data_tl_minmax = min_max_scaler.fit_transform(data_tl_copy)\n",
    "data_br_minmax = min_max_scaler.fit_transform(data_br_copy)\n",
    "data_bl_minmax = min_max_scaler.fit_transform(data_bl_copy)"
   ]
  },
  {
   "cell_type": "code",
   "execution_count": 14,
   "metadata": {},
   "outputs": [],
   "source": [
    "# data_tr_minmax = data_tr_minmax.transpose()\n",
    "# data_tl_minmax = data_tl_minmax.transpose()\n",
    "# data_br_minmax = data_br_minmax.transpose()\n",
    "# data_bl_minmax = data_bl_minmax.transpose()"
   ]
  },
  {
   "cell_type": "code",
   "execution_count": 15,
   "metadata": {},
   "outputs": [
    {
     "data": {
      "text/plain": [
       "(25, 10)"
      ]
     },
     "execution_count": 15,
     "metadata": {},
     "output_type": "execute_result"
    }
   ],
   "source": [
    "np.shape(data_tr_minmax)"
   ]
  },
  {
   "cell_type": "code",
   "execution_count": 16,
   "metadata": {},
   "outputs": [],
   "source": [
    "rgba_colors_tr = np.zeros((25, 10, 4))\n",
    "rgba_colors_tl = np.zeros((25, 10, 4))\n",
    "rgba_colors_br = np.zeros((25, 10, 4))\n",
    "rgba_colors_bl = np.zeros((25, 10, 4))\n",
    "\n",
    "# the first three columns specift the rgb code (normalised to [0, 1])\n",
    "rgba_colors_tl[:, :, 0] = 1.0    # red\n",
    "rgba_colors_tr[:, :, 1] = 1.0    # green\n",
    "rgba_colors_br[:, :, 2] = 1.0    # blue\n",
    "rgba_colors_bl[:, :, 0] = 0.980  # orange\n",
    "rgba_colors_bl[:, :, 1] = 0.313  # orange\n",
    "\n",
    "for i in range(25):\n",
    "    alphas_tr = data_tr_minmax[i]\n",
    "    alphas_tl = data_tl_minmax[i]\n",
    "    alphas_br = data_br_minmax[i]\n",
    "    alphas_bl = data_bl_minmax[i]\n",
    "    \n",
    "    for j in range(10):\n",
    "        # the fourth column needs to be your alphas\n",
    "        rgba_colors_tr[i, j, 3] = alphas_tr[j]\n",
    "        rgba_colors_tl[i, j, 3] = alphas_tl[j]\n",
    "        rgba_colors_br[i, j, 3] = alphas_br[j]\n",
    "        rgba_colors_bl[i, j, 3] = alphas_bl[j]"
   ]
  },
  {
   "cell_type": "code",
   "execution_count": 17,
   "metadata": {},
   "outputs": [
    {
     "data": {
      "text/plain": [
       "array([[[0.98 , 0.313, 0.   , 0.   ],\n",
       "        [0.98 , 0.313, 0.   , 0.   ],\n",
       "        [0.98 , 0.313, 0.   , 0.   ],\n",
       "        [0.98 , 0.313, 0.   , 0.   ],\n",
       "        [0.98 , 0.313, 0.   , 0.   ],\n",
       "        [0.98 , 0.313, 0.   , 0.   ],\n",
       "        [0.98 , 0.313, 0.   , 0.   ],\n",
       "        [0.98 , 0.313, 0.   , 0.   ],\n",
       "        [0.98 , 0.313, 0.   , 0.   ],\n",
       "        [0.98 , 0.313, 0.   , 0.   ]],\n",
       "\n",
       "       [[0.98 , 0.313, 0.   , 0.   ],\n",
       "        [0.98 , 0.313, 0.   , 0.   ],\n",
       "        [0.98 , 0.313, 0.   , 0.   ],\n",
       "        [0.98 , 0.313, 0.   , 0.   ],\n",
       "        [0.98 , 0.313, 0.   , 0.   ],\n",
       "        [0.98 , 0.313, 0.   , 0.   ],\n",
       "        [0.98 , 0.313, 0.   , 0.   ],\n",
       "        [0.98 , 0.313, 0.   , 0.   ],\n",
       "        [0.98 , 0.313, 0.   , 0.   ],\n",
       "        [0.98 , 0.313, 0.   , 0.   ]],\n",
       "\n",
       "       [[0.98 , 0.313, 0.   , 0.   ],\n",
       "        [0.98 , 0.313, 0.   , 0.   ],\n",
       "        [0.98 , 0.313, 0.   , 0.   ],\n",
       "        [0.98 , 0.313, 0.   , 0.   ],\n",
       "        [0.98 , 0.313, 0.   , 0.   ],\n",
       "        [0.98 , 0.313, 0.   , 0.   ],\n",
       "        [0.98 , 0.313, 0.   , 0.   ],\n",
       "        [0.98 , 0.313, 0.   , 0.   ],\n",
       "        [0.98 , 0.313, 0.   , 0.   ],\n",
       "        [0.98 , 0.313, 0.   , 0.   ]],\n",
       "\n",
       "       [[0.98 , 0.313, 0.   , 0.   ],\n",
       "        [0.98 , 0.313, 0.   , 0.   ],\n",
       "        [0.98 , 0.313, 0.   , 0.   ],\n",
       "        [0.98 , 0.313, 0.   , 0.   ],\n",
       "        [0.98 , 0.313, 0.   , 0.   ],\n",
       "        [0.98 , 0.313, 0.   , 0.   ],\n",
       "        [0.98 , 0.313, 0.   , 0.   ],\n",
       "        [0.98 , 0.313, 0.   , 0.   ],\n",
       "        [0.98 , 0.313, 0.   , 0.   ],\n",
       "        [0.98 , 0.313, 0.   , 0.   ]],\n",
       "\n",
       "       [[0.98 , 0.313, 0.   , 0.   ],\n",
       "        [0.98 , 0.313, 0.   , 0.   ],\n",
       "        [0.98 , 0.313, 0.   , 0.   ],\n",
       "        [0.98 , 0.313, 0.   , 0.   ],\n",
       "        [0.98 , 0.313, 0.   , 0.   ],\n",
       "        [0.98 , 0.313, 0.   , 0.   ],\n",
       "        [0.98 , 0.313, 0.   , 0.   ],\n",
       "        [0.98 , 0.313, 0.   , 0.   ],\n",
       "        [0.98 , 0.313, 0.   , 0.   ],\n",
       "        [0.98 , 0.313, 0.   , 0.   ]],\n",
       "\n",
       "       [[0.98 , 0.313, 0.   , 0.   ],\n",
       "        [0.98 , 0.313, 0.   , 0.   ],\n",
       "        [0.98 , 0.313, 0.   , 0.   ],\n",
       "        [0.98 , 0.313, 0.   , 0.   ],\n",
       "        [0.98 , 0.313, 0.   , 0.   ],\n",
       "        [0.98 , 0.313, 0.   , 0.   ],\n",
       "        [0.98 , 0.313, 0.   , 0.   ],\n",
       "        [0.98 , 0.313, 0.   , 0.   ],\n",
       "        [0.98 , 0.313, 0.   , 0.   ],\n",
       "        [0.98 , 0.313, 0.   , 0.   ]],\n",
       "\n",
       "       [[0.98 , 0.313, 0.   , 0.   ],\n",
       "        [0.98 , 0.313, 0.   , 0.   ],\n",
       "        [0.98 , 0.313, 0.   , 0.   ],\n",
       "        [0.98 , 0.313, 0.   , 0.   ],\n",
       "        [0.98 , 0.313, 0.   , 0.   ],\n",
       "        [0.98 , 0.313, 0.   , 0.   ],\n",
       "        [0.98 , 0.313, 0.   , 0.   ],\n",
       "        [0.98 , 0.313, 0.   , 0.   ],\n",
       "        [0.98 , 0.313, 0.   , 0.   ],\n",
       "        [0.98 , 0.313, 0.   , 0.   ]],\n",
       "\n",
       "       [[0.98 , 0.313, 0.   , 0.   ],\n",
       "        [0.98 , 0.313, 0.   , 0.   ],\n",
       "        [0.98 , 0.313, 0.   , 0.   ],\n",
       "        [0.98 , 0.313, 0.   , 0.   ],\n",
       "        [0.98 , 0.313, 0.   , 0.   ],\n",
       "        [0.98 , 0.313, 0.   , 0.   ],\n",
       "        [0.98 , 0.313, 0.   , 0.   ],\n",
       "        [0.98 , 0.313, 0.   , 0.   ],\n",
       "        [0.98 , 0.313, 0.   , 0.   ],\n",
       "        [0.98 , 0.313, 0.   , 0.   ]],\n",
       "\n",
       "       [[0.98 , 0.313, 0.   , 0.   ],\n",
       "        [0.98 , 0.313, 0.   , 0.   ],\n",
       "        [0.98 , 0.313, 0.   , 0.   ],\n",
       "        [0.98 , 0.313, 0.   , 0.   ],\n",
       "        [0.98 , 0.313, 0.   , 0.   ],\n",
       "        [0.98 , 0.313, 0.   , 0.   ],\n",
       "        [0.98 , 0.313, 0.   , 0.   ],\n",
       "        [0.98 , 0.313, 0.   , 0.   ],\n",
       "        [0.98 , 0.313, 0.   , 0.   ],\n",
       "        [0.98 , 0.313, 0.   , 0.   ]],\n",
       "\n",
       "       [[0.98 , 0.313, 0.   , 0.   ],\n",
       "        [0.98 , 0.313, 0.   , 0.   ],\n",
       "        [0.98 , 0.313, 0.   , 0.   ],\n",
       "        [0.98 , 0.313, 0.   , 0.   ],\n",
       "        [0.98 , 0.313, 0.   , 0.   ],\n",
       "        [0.98 , 0.313, 0.   , 0.   ],\n",
       "        [0.98 , 0.313, 0.   , 0.   ],\n",
       "        [0.98 , 0.313, 0.   , 0.   ],\n",
       "        [0.98 , 0.313, 0.   , 0.   ],\n",
       "        [0.98 , 0.313, 0.   , 0.   ]],\n",
       "\n",
       "       [[0.98 , 0.313, 0.   , 0.   ],\n",
       "        [0.98 , 0.313, 0.   , 0.   ],\n",
       "        [0.98 , 0.313, 0.   , 0.   ],\n",
       "        [0.98 , 0.313, 0.   , 0.   ],\n",
       "        [0.98 , 0.313, 0.   , 0.   ],\n",
       "        [0.98 , 0.313, 0.   , 0.   ],\n",
       "        [0.98 , 0.313, 0.   , 0.   ],\n",
       "        [0.98 , 0.313, 0.   , 0.   ],\n",
       "        [0.98 , 0.313, 0.   , 0.   ],\n",
       "        [0.98 , 0.313, 0.   , 0.   ]],\n",
       "\n",
       "       [[0.98 , 0.313, 0.   , 0.   ],\n",
       "        [0.98 , 0.313, 0.   , 0.   ],\n",
       "        [0.98 , 0.313, 0.   , 0.   ],\n",
       "        [0.98 , 0.313, 0.   , 0.   ],\n",
       "        [0.98 , 0.313, 0.   , 0.   ],\n",
       "        [0.98 , 0.313, 0.   , 0.   ],\n",
       "        [0.98 , 0.313, 0.   , 0.   ],\n",
       "        [0.98 , 0.313, 0.   , 0.   ],\n",
       "        [0.98 , 0.313, 0.   , 0.   ],\n",
       "        [0.98 , 0.313, 0.   , 0.   ]],\n",
       "\n",
       "       [[0.98 , 0.313, 0.   , 0.   ],\n",
       "        [0.98 , 0.313, 0.   , 0.   ],\n",
       "        [0.98 , 0.313, 0.   , 0.   ],\n",
       "        [0.98 , 0.313, 0.   , 0.   ],\n",
       "        [0.98 , 0.313, 0.   , 0.   ],\n",
       "        [0.98 , 0.313, 0.   , 0.   ],\n",
       "        [0.98 , 0.313, 0.   , 0.   ],\n",
       "        [0.98 , 0.313, 0.   , 0.   ],\n",
       "        [0.98 , 0.313, 0.   , 0.   ],\n",
       "        [0.98 , 0.313, 0.   , 0.   ]],\n",
       "\n",
       "       [[0.98 , 0.313, 0.   , 0.   ],\n",
       "        [0.98 , 0.313, 0.   , 0.   ],\n",
       "        [0.98 , 0.313, 0.   , 0.   ],\n",
       "        [0.98 , 0.313, 0.   , 0.   ],\n",
       "        [0.98 , 0.313, 0.   , 0.   ],\n",
       "        [0.98 , 0.313, 0.   , 0.   ],\n",
       "        [0.98 , 0.313, 0.   , 0.   ],\n",
       "        [0.98 , 0.313, 0.   , 0.   ],\n",
       "        [0.98 , 0.313, 0.   , 0.   ],\n",
       "        [0.98 , 0.313, 0.   , 0.   ]],\n",
       "\n",
       "       [[0.98 , 0.313, 0.   , 0.   ],\n",
       "        [0.98 , 0.313, 0.   , 0.   ],\n",
       "        [0.98 , 0.313, 0.   , 0.   ],\n",
       "        [0.98 , 0.313, 0.   , 0.   ],\n",
       "        [0.98 , 0.313, 0.   , 0.   ],\n",
       "        [0.98 , 0.313, 0.   , 0.   ],\n",
       "        [0.98 , 0.313, 0.   , 0.   ],\n",
       "        [0.98 , 0.313, 0.   , 0.   ],\n",
       "        [0.98 , 0.313, 0.   , 0.   ],\n",
       "        [0.98 , 0.313, 0.   , 0.   ]],\n",
       "\n",
       "       [[0.98 , 0.313, 0.   , 0.   ],\n",
       "        [0.98 , 0.313, 0.   , 0.   ],\n",
       "        [0.98 , 0.313, 0.   , 0.   ],\n",
       "        [0.98 , 0.313, 0.   , 0.   ],\n",
       "        [0.98 , 0.313, 0.   , 0.   ],\n",
       "        [0.98 , 0.313, 0.   , 0.   ],\n",
       "        [0.98 , 0.313, 0.   , 0.   ],\n",
       "        [0.98 , 0.313, 0.   , 0.   ],\n",
       "        [0.98 , 0.313, 0.   , 0.   ],\n",
       "        [0.98 , 0.313, 0.   , 0.   ]],\n",
       "\n",
       "       [[0.98 , 0.313, 0.   , 0.   ],\n",
       "        [0.98 , 0.313, 0.   , 0.   ],\n",
       "        [0.98 , 0.313, 0.   , 0.   ],\n",
       "        [0.98 , 0.313, 0.   , 0.   ],\n",
       "        [0.98 , 0.313, 0.   , 0.   ],\n",
       "        [0.98 , 0.313, 0.   , 0.   ],\n",
       "        [0.98 , 0.313, 0.   , 0.   ],\n",
       "        [0.98 , 0.313, 0.   , 0.   ],\n",
       "        [0.98 , 0.313, 0.   , 0.   ],\n",
       "        [0.98 , 0.313, 0.   , 0.   ]],\n",
       "\n",
       "       [[0.98 , 0.313, 0.   , 0.   ],\n",
       "        [0.98 , 0.313, 0.   , 0.   ],\n",
       "        [0.98 , 0.313, 0.   , 0.   ],\n",
       "        [0.98 , 0.313, 0.   , 0.   ],\n",
       "        [0.98 , 0.313, 0.   , 0.   ],\n",
       "        [0.98 , 0.313, 0.   , 0.   ],\n",
       "        [0.98 , 0.313, 0.   , 0.   ],\n",
       "        [0.98 , 0.313, 0.   , 0.   ],\n",
       "        [0.98 , 0.313, 0.   , 0.   ],\n",
       "        [0.98 , 0.313, 0.   , 1.   ]],\n",
       "\n",
       "       [[0.98 , 0.313, 0.   , 0.   ],\n",
       "        [0.98 , 0.313, 0.   , 0.   ],\n",
       "        [0.98 , 0.313, 0.   , 0.   ],\n",
       "        [0.98 , 0.313, 0.   , 0.   ],\n",
       "        [0.98 , 0.313, 0.   , 0.   ],\n",
       "        [0.98 , 0.313, 0.   , 0.   ],\n",
       "        [0.98 , 0.313, 0.   , 0.   ],\n",
       "        [0.98 , 0.313, 0.   , 0.   ],\n",
       "        [0.98 , 0.313, 0.   , 0.   ],\n",
       "        [0.98 , 0.313, 0.   , 0.   ]],\n",
       "\n",
       "       [[0.98 , 0.313, 0.   , 0.   ],\n",
       "        [0.98 , 0.313, 0.   , 0.   ],\n",
       "        [0.98 , 0.313, 0.   , 0.   ],\n",
       "        [0.98 , 0.313, 0.   , 0.   ],\n",
       "        [0.98 , 0.313, 0.   , 0.   ],\n",
       "        [0.98 , 0.313, 0.   , 0.   ],\n",
       "        [0.98 , 0.313, 0.   , 0.   ],\n",
       "        [0.98 , 0.313, 0.   , 0.   ],\n",
       "        [0.98 , 0.313, 0.   , 0.   ],\n",
       "        [0.98 , 0.313, 0.   , 0.   ]],\n",
       "\n",
       "       [[0.98 , 0.313, 0.   , 0.   ],\n",
       "        [0.98 , 0.313, 0.   , 0.   ],\n",
       "        [0.98 , 0.313, 0.   , 0.   ],\n",
       "        [0.98 , 0.313, 0.   , 0.   ],\n",
       "        [0.98 , 0.313, 0.   , 0.   ],\n",
       "        [0.98 , 0.313, 0.   , 0.   ],\n",
       "        [0.98 , 0.313, 0.   , 0.   ],\n",
       "        [0.98 , 0.313, 0.   , 0.   ],\n",
       "        [0.98 , 0.313, 0.   , 0.   ],\n",
       "        [0.98 , 0.313, 0.   , 0.   ]],\n",
       "\n",
       "       [[0.98 , 0.313, 0.   , 0.   ],\n",
       "        [0.98 , 0.313, 0.   , 0.   ],\n",
       "        [0.98 , 0.313, 0.   , 0.   ],\n",
       "        [0.98 , 0.313, 0.   , 0.   ],\n",
       "        [0.98 , 0.313, 0.   , 0.   ],\n",
       "        [0.98 , 0.313, 0.   , 0.   ],\n",
       "        [0.98 , 0.313, 0.   , 0.   ],\n",
       "        [0.98 , 0.313, 0.   , 0.   ],\n",
       "        [0.98 , 0.313, 0.   , 0.   ],\n",
       "        [0.98 , 0.313, 0.   , 0.   ]],\n",
       "\n",
       "       [[0.98 , 0.313, 0.   , 0.   ],\n",
       "        [0.98 , 0.313, 0.   , 0.   ],\n",
       "        [0.98 , 0.313, 0.   , 0.   ],\n",
       "        [0.98 , 0.313, 0.   , 0.   ],\n",
       "        [0.98 , 0.313, 0.   , 0.   ],\n",
       "        [0.98 , 0.313, 0.   , 0.   ],\n",
       "        [0.98 , 0.313, 0.   , 0.   ],\n",
       "        [0.98 , 0.313, 0.   , 0.   ],\n",
       "        [0.98 , 0.313, 0.   , 0.   ],\n",
       "        [0.98 , 0.313, 0.   , 0.   ]],\n",
       "\n",
       "       [[0.98 , 0.313, 0.   , 0.   ],\n",
       "        [0.98 , 0.313, 0.   , 0.   ],\n",
       "        [0.98 , 0.313, 0.   , 0.   ],\n",
       "        [0.98 , 0.313, 0.   , 0.   ],\n",
       "        [0.98 , 0.313, 0.   , 0.   ],\n",
       "        [0.98 , 0.313, 0.   , 0.   ],\n",
       "        [0.98 , 0.313, 0.   , 0.   ],\n",
       "        [0.98 , 0.313, 0.   , 0.   ],\n",
       "        [0.98 , 0.313, 0.   , 0.   ],\n",
       "        [0.98 , 0.313, 0.   , 0.   ]],\n",
       "\n",
       "       [[0.98 , 0.313, 0.   , 0.   ],\n",
       "        [0.98 , 0.313, 0.   , 0.   ],\n",
       "        [0.98 , 0.313, 0.   , 0.   ],\n",
       "        [0.98 , 0.313, 0.   , 0.   ],\n",
       "        [0.98 , 0.313, 0.   , 0.   ],\n",
       "        [0.98 , 0.313, 0.   , 0.   ],\n",
       "        [0.98 , 0.313, 0.   , 0.   ],\n",
       "        [0.98 , 0.313, 0.   , 0.   ],\n",
       "        [0.98 , 0.313, 0.   , 0.   ],\n",
       "        [0.98 , 0.313, 0.   , 0.   ]]])"
      ]
     },
     "execution_count": 17,
     "metadata": {},
     "output_type": "execute_result"
    }
   ],
   "source": [
    "rgba_colors_bl"
   ]
  },
  {
   "cell_type": "code",
   "execution_count": 18,
   "metadata": {},
   "outputs": [],
   "source": [
    "lineoffsets1 = [i+1 for i in range(25)]\n",
    "linelengths = [0.5 for i in range(25)]\n",
    "\n",
    "linelengths1 = [0.8 for i in range(25)]\n",
    "linelengths2 = [0.6 for i in range(25)]\n",
    "linelengths3 = [0.4 for i in range(25)]\n",
    "linelengths4 = [0.2 for i in range(25)]\n",
    "\n",
    "#color_set = ['red', 'green', 'blue', 'orange']\n",
    "x_range = np.linspace(1, 25, 25, endpoint=True)\n",
    "y_range = np.linspace(1, 10, 10, endpoint=True)\n",
    "color_set = [rgba_colors_tl, rgba_colors_tr, rgba_colors_br, rgba_colors_bl]"
   ]
  },
  {
   "cell_type": "code",
   "execution_count": 19,
   "metadata": {},
   "outputs": [
    {
     "data": {
      "image/png": "[encoded data removed]",
      "text/plain": [
       "<Figure size 1152x648 with 4 Axes>"
      ]
     },
     "metadata": {
      "needs_background": "light"
     },
     "output_type": "display_data"
    }
   ],
   "source": [
    "fig, axs = plt.subplots(2, 2)\n",
    "\n",
    "for i in range(2):\n",
    "    for j in range(2):\n",
    "        if (i == 0 and j == 0):\n",
    "            data = data_tl\n",
    "            idx = 0\n",
    "        if (i == 0 and j == 1):\n",
    "            data = data_tr\n",
    "            idx = 1\n",
    "        if (i == 1 and j == 1):\n",
    "            data = data_br\n",
    "            idx = 2\n",
    "        if (i == 1 and j == 0):\n",
    "            data = data_bl\n",
    "            idx = 3\n",
    "            \n",
    "        axs[i, j].eventplot(data, \n",
    "                            colors=color_set[idx], \n",
    "                            lineoffsets=lineoffsets1, \n",
    "                            linelengths=linelengths,\n",
    "                            orientation='vertical')\n",
    "        \n",
    "        axs[i, j].set_xlim(0.5, 25.5)\n",
    "        axs[i, j].set_ylim(0.5, 10.5)\n",
    "        axs[i, j].set_xticks(x_range)\n",
    "        axs[i, j].set_yticks(y_range)\n",
    "        axs[i, j].set_ylabel(\"Repetitions\", fontsize = 14)\n",
    "        axs[i, j].set_xlabel(\"Time units\", fontsize = 14)\n",
    "\n",
    "fig.suptitle('Circuit[0] ID[124]', fontweight = \"bold\", fontsize = 18)\n",
    "fig.tight_layout()\n",
    "fig.set_size_inches(16, 9)\n",
    "fig.savefig('circuit[0] ID[124].png', dpi=600)"
   ]
  },
  {
   "cell_type": "markdown",
   "metadata": {},
   "source": [
    "# Recycle Bin"
   ]
  },
  {
   "cell_type": "code",
   "execution_count": 20,
   "metadata": {},
   "outputs": [],
   "source": [
    "# fig, axs = plt.subplots()\n",
    "# twin1, twin2, twin3 = axs.twinx(), axs.twinx(), axs.twinx()\n",
    "\n",
    "# axs.eventplot(data_tl_minmax, \n",
    "#               colors='red', \n",
    "#               lineoffsets=lineoffsets1, \n",
    "#               linelengths=linelengths1,\n",
    "#               orientation='vertical')\n",
    "        \n",
    "# twin1.eventplot(data_tr_minmax, \n",
    "#                 colors='green', \n",
    "#                 lineoffsets=lineoffsets1, \n",
    "#                 linelengths=linelengths2,\n",
    "#                 orientation='vertical')\n",
    "\n",
    "# twin2.eventplot(data_br_minmax, \n",
    "#                 colors='blue', \n",
    "#                 lineoffsets=lineoffsets1, \n",
    "#                 linelengths=linelengths3,\n",
    "#                 orientation='vertical')\n",
    "\n",
    "# twin3.eventplot(data_bl_minmax, \n",
    "#                 colors='orange', \n",
    "#                 lineoffsets=lineoffsets1, \n",
    "#                 linelengths=linelengths4,\n",
    "#                 orientation='vertical')\n",
    "        \n",
    "# axs.set_xlim(0.5, 25.5)\n",
    "# axs.set_ylim(0.5, 10.5)\n",
    "# twin1.set_ylim(0.5, 10.5)\n",
    "# twin2.set_ylim(0.5, 10.5)\n",
    "# twin3.set_ylim(0.5, 10.5)\n",
    "\n",
    "# axs.set_xticks(x_range)\n",
    "# axs.set_yticks(y_range)\n",
    "# twin1.set_yticks([1, 2, 3, 4, 5, 6, 7, 8, 9, 10])\n",
    "# twin2.set_yticks([1, 2, 3, 4, 5, 6, 7, 8, 9, 10])\n",
    "# twin3.set_yticks([1, 2, 3, 4, 5, 6, 7, 8, 9, 10])\n",
    "\n",
    "# axs.set_ylabel(\"Repetitions\", fontsize = 14)\n",
    "# axs.set_xlabel(\"Time units\", fontsize = 14)\n",
    "\n",
    "# axs.set_title(\"Circuit[0] ID[0] \\n [R, G, C, Y] <-> [Tl, Tr, Br, Bl]\", fontsize = 18)\n",
    "\n",
    "# fig.tight_layout()\n",
    "# fig.set_size_inches(16, 9)\n",
    "# #fig.savefig('circuit[0] ID[0] combine.png', dpi=600)"
   ]
  },
  {
   "cell_type": "code",
   "execution_count": null,
   "metadata": {},
   "outputs": [],
   "source": []
  }
 ],
 "metadata": {
  "kernelspec": {
   "display_name": "Python 3",
   "language": "python",
   "name": "python3"
  },
  "language_info": {
   "codemirror_mode": {
    "name": "ipython",
    "version": 3
   },
   "file_extension": ".py",
   "mimetype": "text/x-python",
   "name": "python",
   "nbconvert_exporter": "python",
   "pygments_lexer": "ipython3",
   "version": "3.8.8"
  }
 },
 "nbformat": 4,
 "nbformat_minor": 2
}
