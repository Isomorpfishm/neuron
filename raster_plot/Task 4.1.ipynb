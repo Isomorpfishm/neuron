{
 "cells": [
  {
   "cell_type": "code",
   "execution_count": 1,
   "metadata": {},
   "outputs": [],
   "source": [
    "import matplotlib.pyplot as plt\n",
    "import numpy as np\n",
    "import matplotlib\n",
    "matplotlib.rcParams['font.size'] = 8.0"
   ]
  },
  {
   "cell_type": "code",
   "execution_count": 2,
   "metadata": {},
   "outputs": [],
   "source": [
    "filename = 'C:/Users/yyoon.ces/Downloads/histograms.npy'\n",
    "data = np.load(filename)"
   ]
  },
  {
   "cell_type": "code",
   "execution_count": 3,
   "metadata": {},
   "outputs": [
    {
     "data": {
      "text/plain": [
       "(30, 125, 10, 25, 4)"
      ]
     },
     "execution_count": 3,
     "metadata": {},
     "output_type": "execute_result"
    }
   ],
   "source": [
    "np.shape(data)"
   ]
  },
  {
   "cell_type": "code",
   "execution_count": 4,
   "metadata": {},
   "outputs": [
    {
     "data": {
      "text/plain": [
       "(125, 10, 25, 4)"
      ]
     },
     "execution_count": 4,
     "metadata": {},
     "output_type": "execute_result"
    }
   ],
   "source": [
    "circuit_one = data[0, :]\n",
    "np.shape(circuit_one)"
   ]
  },
  {
   "cell_type": "code",
   "execution_count": 5,
   "metadata": {},
   "outputs": [
    {
     "data": {
      "text/plain": [
       "(10, 25, 4)"
      ]
     },
     "execution_count": 5,
     "metadata": {},
     "output_type": "execute_result"
    }
   ],
   "source": [
    "np.shape(circuit_one[0])"
   ]
  },
  {
   "cell_type": "code",
   "execution_count": 6,
   "metadata": {},
   "outputs": [],
   "source": [
    "circuit_one_t = []\n",
    "\n",
    "for i in range(125):\n",
    "    temp = np.transpose(circuit_one[i])\n",
    "    circuit_one_t.append(temp)"
   ]
  },
  {
   "cell_type": "code",
   "execution_count": 7,
   "metadata": {},
   "outputs": [
    {
     "data": {
      "text/plain": [
       "(125, 4, 25, 10)"
      ]
     },
     "execution_count": 7,
     "metadata": {},
     "output_type": "execute_result"
    }
   ],
   "source": [
    "np.shape(circuit_one_t)"
   ]
  },
  {
   "cell_type": "code",
   "execution_count": 8,
   "metadata": {},
   "outputs": [],
   "source": [
    "# series = []\n",
    "# sel = [35, 42, 69, 107, 120]\n",
    "\n",
    "# for i in range(len(sel)):\n",
    "#     idx = sel[i]\n",
    "#     series.append(circuit_one_t[idx])\n",
    "    \n",
    "# np.shape(series)"
   ]
  },
  {
   "cell_type": "code",
   "execution_count": 9,
   "metadata": {},
   "outputs": [],
   "source": [
    "cs = circuit_one_t[75]"
   ]
  },
  {
   "cell_type": "code",
   "execution_count": 10,
   "metadata": {},
   "outputs": [],
   "source": [
    "data_tl, data_tr, data_br, data_bl = cs[0], cs[1], cs[2], cs[3]"
   ]
  },
  {
   "cell_type": "code",
   "execution_count": 11,
   "metadata": {},
   "outputs": [],
   "source": [
    "for i in range(25):\n",
    "    for j in range(10):\n",
    "        if data_tl[i][j] != 0:\n",
    "            data_tl[i][j] = j + 1\n",
    "            \n",
    "        if data_tr[i][j] != 0:\n",
    "            data_tr[i][j] = j + 1\n",
    "            \n",
    "        if data_br[i][j] != 0:\n",
    "            data_br[i][j] = j + 1\n",
    "            \n",
    "        if data_bl[i][j] != 0:\n",
    "            data_bl[i][j] = j + 1\n",
    "        \n",
    "        else:\n",
    "            pass"
   ]
  },
  {
   "cell_type": "code",
   "execution_count": 12,
   "metadata": {},
   "outputs": [],
   "source": [
    "lineoffsets1 = [i+1 for i in range(25)]\n",
    "linelengths = [0.5 for i in range(25)]\n",
    "linelengths1 = [0.8 for i in range(25)]\n",
    "linelengths2 = [0.6 for i in range(25)]\n",
    "linelengths3 = [0.4 for i in range(25)]\n",
    "linelengths4 = [0.2 for i in range(25)]\n",
    "\n",
    "color_set = ['red', 'green', 'cyan', 'yellow']\n",
    "x_range = np.linspace(1, 25, 25, endpoint=True)\n",
    "y_range = np.linspace(1, 10, 10, endpoint=True)"
   ]
  },
  {
   "cell_type": "code",
   "execution_count": 13,
   "metadata": {},
   "outputs": [
    {
     "data": {
      "image/png": "[encoded data removed]",
      "text/plain": [
       "<Figure size 1152x648 with 4 Axes>"
      ]
     },
     "metadata": {
      "needs_background": "light"
     },
     "output_type": "display_data"
    }
   ],
   "source": [
    "fig, axs = plt.subplots(2, 2)\n",
    "\n",
    "for i in range(2):\n",
    "    for j in range(2):\n",
    "        if i == 0 and j == 0:\n",
    "            data = data_tl\n",
    "            idx = 0\n",
    "        elif i == 0 and j == 1:\n",
    "            data = data_tr\n",
    "            idx = 1\n",
    "        elif i == 1 and j == 1:\n",
    "            data = data_br\n",
    "            idx = 2\n",
    "        else:\n",
    "            data = data_bl\n",
    "            idx = 3\n",
    "            \n",
    "        axs[i, j].eventplot(data, \n",
    "                            colors=color_set[idx], \n",
    "                            lineoffsets=lineoffsets1, \n",
    "                            linelengths=linelengths,\n",
    "                            orientation='vertical',\n",
    "                            linestyles='solid',\n",
    "                            alpha=1)\n",
    "        \n",
    "        axs[i, j].set_xlim(0.5, 25.5)\n",
    "        axs[i, j].set_ylim(0.5, 10.5)\n",
    "        axs[i, j].set_xticks(x_range)\n",
    "        axs[i, j].set_yticks(y_range)\n",
    "        axs[i, j].set_ylabel(\"Repetitions\", fontsize = 14)\n",
    "        axs[i, j].set_xlabel(\"Time units\", fontsize = 14)\n",
    "\n",
    "fig.suptitle('Circuit[0] ID[75]', fontweight = \"bold\", fontsize = 18)\n",
    "fig.tight_layout()\n",
    "fig.set_size_inches(16, 9)\n",
    "fig.savefig('circuit[0] ID[75].png', dpi=600)"
   ]
  },
  {
   "cell_type": "code",
   "execution_count": 14,
   "metadata": {},
   "outputs": [
    {
     "data": {
      "image/png": "[encoded data removed]",
      "text/plain": [
       "<Figure size 1152x648 with 4 Axes>"
      ]
     },
     "metadata": {
      "needs_background": "light"
     },
     "output_type": "display_data"
    }
   ],
   "source": [
    "fig, axs = plt.subplots()\n",
    "twin1, twin2, twin3 = axs.twinx(), axs.twinx(), axs.twinx()\n",
    "\n",
    "axs.eventplot(data_tl, \n",
    "              colors='red', \n",
    "              lineoffsets=lineoffsets1, \n",
    "              linelengths=linelengths1,\n",
    "              orientation='vertical',\n",
    "              alpha=1)\n",
    "        \n",
    "twin1.eventplot(data_tr, \n",
    "                colors='green', \n",
    "                lineoffsets=lineoffsets1, \n",
    "                linelengths=linelengths2,\n",
    "                orientation='vertical',\n",
    "                alpha=1)\n",
    "\n",
    "twin2.eventplot(data_br, \n",
    "                colors='cyan', \n",
    "                lineoffsets=lineoffsets1, \n",
    "                linelengths=linelengths3,\n",
    "                orientation='vertical',\n",
    "                alpha=1)\n",
    "\n",
    "twin3.eventplot(data_bl, \n",
    "                colors='yellow', \n",
    "                lineoffsets=lineoffsets1, \n",
    "                linelengths=linelengths4,\n",
    "                orientation='vertical',\n",
    "                alpha=1)\n",
    "        \n",
    "axs.set_xlim(0.5, 25.5)\n",
    "axs.set_ylim(0.5, 10.5)\n",
    "twin1.set_ylim(0.5, 10.5)\n",
    "twin2.set_ylim(0.5, 10.5)\n",
    "twin3.set_ylim(0.5, 10.5)\n",
    "\n",
    "\n",
    "axs.set_xticks(x_range)\n",
    "axs.set_yticks(y_range)\n",
    "twin1.set_yticks([1, 2, 3, 4, 5, 6, 7, 8, 9, 10])\n",
    "twin2.set_yticks([1, 2, 3, 4, 5, 6, 7, 8, 9, 10])\n",
    "twin3.set_yticks([1, 2, 3, 4, 5, 6, 7, 8, 9, 10])\n",
    "\n",
    "axs.set_ylabel(\"Repetitions\", fontsize = 14)\n",
    "axs.set_xlabel(\"Time units\", fontsize = 14)\n",
    "\n",
    "axs.set_title(\"Circuit[0] ID[75] \\n [R, G, C, Y] <-> [Tl, Tr, Br, Bl]\", fontsize = 18)\n",
    "\n",
    "fig.tight_layout()\n",
    "fig.set_size_inches(16, 9)\n",
    "fig.savefig('circuit[0] ID[75] combine.png', dpi=600)"
   ]
  },
  {
   "cell_type": "code",
   "execution_count": null,
   "metadata": {},
   "outputs": [],
   "source": []
  },
  {
   "cell_type": "markdown",
   "metadata": {},
   "source": [
    "# Recycle Bin"
   ]
  },
  {
   "cell_type": "code",
   "execution_count": 15,
   "metadata": {},
   "outputs": [],
   "source": [
    "# trial_1 = group[0]\n",
    "# color_tl, color_tr, color_bl, color_br = [], [], [], []\n",
    "\n",
    "# for i in range(25):\n",
    "#     for j in range(4):\n",
    "#         if trial_1[i][j] == 0.0:\n",
    "#             if j == 0:\n",
    "#                 color_tl.append('white')\n",
    "#             elif j == 1:\n",
    "#                 color_tr.append('white')\n",
    "#             elif j == 2:\n",
    "#                 color_br.append('white')\n",
    "#             else:\n",
    "#                 color_bl.append('white')\n",
    "#         else:\n",
    "#             if j == 0:\n",
    "#                 color_tl.append('blue')\n",
    "#             elif j == 1:\n",
    "#                 color_tr.append('red')\n",
    "#             elif j == 2:\n",
    "#                 color_br.append('green')\n",
    "#             else:\n",
    "#                 color_bl.append('black')"
   ]
  },
  {
   "cell_type": "code",
   "execution_count": 16,
   "metadata": {},
   "outputs": [],
   "source": [
    "# axs.eventplot(data_tr, \n",
    "#               colors='red', \n",
    "#               lineoffsets=lineoffsets1, \n",
    "#               linelengths=linelengths1,\n",
    "#               orientation='vertical')\n",
    "\n",
    "# axs.eventplot(data_br, \n",
    "#               colors='green', \n",
    "#               lineoffsets=lineoffsets1, \n",
    "#               linelengths=linelengths1,\n",
    "#               orientation='vertical')\n",
    "\n",
    "# axs.eventplot(data_bl, \n",
    "#               colors='black', \n",
    "#               lineoffsets=lineoffsets1, \n",
    "#               linelengths=linelengths1,\n",
    "#               orientation='vertical')"
   ]
  }
 ],
 "metadata": {
  "kernelspec": {
   "display_name": "Python 3",
   "language": "python",
   "name": "python3"
  },
  "language_info": {
   "codemirror_mode": {
    "name": "ipython",
    "version": 3
   },
   "file_extension": ".py",
   "mimetype": "text/x-python",
   "name": "python",
   "nbconvert_exporter": "python",
   "pygments_lexer": "ipython3",
   "version": "3.8.8"
  }
 },
 "nbformat": 4,
 "nbformat_minor": 2
}
