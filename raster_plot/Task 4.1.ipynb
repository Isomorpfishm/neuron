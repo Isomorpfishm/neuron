{
 "cells": [
  {
   "cell_type": "code",
   "execution_count": 1,
   "metadata": {},
   "outputs": [],
   "source": [
    "import matplotlib.pyplot as plt\n",
    "import numpy as np\n",
    "import matplotlib\n",
    "matplotlib.rcParams['font.size'] = 8.0"
   ]
  },
  {
   "cell_type": "code",
   "execution_count": 2,
   "metadata": {},
   "outputs": [],
   "source": [
    "filename = 'C:/Users/yyoon.ces/Downloads/histograms.npy'\n",
    "data = np.load(filename)"
   ]
  },
  {
   "cell_type": "code",
   "execution_count": 3,
   "metadata": {},
   "outputs": [
    {
     "data": {
      "text/plain": [
       "(30, 125, 10, 25, 4)"
      ]
     },
     "execution_count": 3,
     "metadata": {},
     "output_type": "execute_result"
    }
   ],
   "source": [
    "np.shape(data)"
   ]
  },
  {
   "cell_type": "code",
   "execution_count": 4,
   "metadata": {},
   "outputs": [],
   "source": [
    "group = []\n",
    "\n",
    "for i in range(10):\n",
    "    group.append(data[0, 0, i]) # extract the first simulation pattern of the first circuit"
   ]
  },
  {
   "cell_type": "code",
   "execution_count": 5,
   "metadata": {},
   "outputs": [
    {
     "data": {
      "text/plain": [
       "(10, 25, 4)"
      ]
     },
     "execution_count": 5,
     "metadata": {},
     "output_type": "execute_result"
    }
   ],
   "source": [
    "np.shape(group) # ten repetitions "
   ]
  },
  {
   "cell_type": "code",
   "execution_count": 6,
   "metadata": {},
   "outputs": [
    {
     "data": {
      "text/plain": [
       "array([[0.00666667, 0.        , 0.00666667, 0.        ],\n",
       "       [0.        , 0.01333333, 0.        , 0.        ],\n",
       "       [0.00666667, 0.        , 0.        , 0.        ],\n",
       "       [0.        , 0.        , 0.        , 0.        ],\n",
       "       [0.        , 0.        , 0.        , 0.        ],\n",
       "       [0.        , 0.        , 0.00666667, 0.        ],\n",
       "       [0.        , 0.        , 0.        , 0.        ],\n",
       "       [0.        , 0.01333333, 0.        , 0.        ],\n",
       "       [0.        , 0.01333333, 0.00666667, 0.        ],\n",
       "       [0.        , 0.00666667, 0.        , 0.        ],\n",
       "       [0.        , 0.        , 0.00666667, 0.        ],\n",
       "       [0.        , 0.        , 0.        , 0.        ],\n",
       "       [0.        , 0.        , 0.        , 0.        ],\n",
       "       [0.        , 0.00666667, 0.        , 0.        ],\n",
       "       [0.        , 0.        , 0.02      , 0.        ],\n",
       "       [0.        , 0.        , 0.        , 0.        ],\n",
       "       [0.        , 0.        , 0.00666667, 0.        ],\n",
       "       [0.        , 0.        , 0.        , 0.        ],\n",
       "       [0.        , 0.        , 0.        , 0.        ],\n",
       "       [0.        , 0.00666667, 0.        , 0.        ],\n",
       "       [0.        , 0.        , 0.        , 0.        ],\n",
       "       [0.        , 0.00666667, 0.        , 0.        ],\n",
       "       [0.00666667, 0.00666667, 0.00666667, 0.        ],\n",
       "       [0.        , 0.00666667, 0.        , 0.        ],\n",
       "       [0.        , 0.00666667, 0.        , 0.        ]])"
      ]
     },
     "execution_count": 6,
     "metadata": {},
     "output_type": "execute_result"
    }
   ],
   "source": [
    "group[2]"
   ]
  },
  {
   "cell_type": "code",
   "execution_count": 7,
   "metadata": {},
   "outputs": [
    {
     "data": {
      "text/plain": [
       "(25, 10)"
      ]
     },
     "execution_count": 7,
     "metadata": {},
     "output_type": "execute_result"
    }
   ],
   "source": [
    "cs = np.transpose(group) # transpose the array into 4*25*10\n",
    "np.shape(cs[0])\n",
    "# cs[0], cs[1], cs[2], and cs[3] correspond to top left, top right, bottom right, and bottom left, resp."
   ]
  },
  {
   "cell_type": "code",
   "execution_count": 8,
   "metadata": {},
   "outputs": [],
   "source": [
    "data_tl = cs[0]\n",
    "data_tr = cs[1]\n",
    "data_br = cs[2]\n",
    "data_bl = cs[3]"
   ]
  },
  {
   "cell_type": "code",
   "execution_count": 9,
   "metadata": {},
   "outputs": [],
   "source": [
    "for i in range(25):\n",
    "    for j in range(10):\n",
    "        if data_tl[i][j] != 0:\n",
    "            data_tl[i][j] = j + 1\n",
    "            \n",
    "        if data_tr[i][j] != 0:\n",
    "            data_tr[i][j] = j + 1\n",
    "            \n",
    "        if data_br[i][j] != 0:\n",
    "            data_br[i][j] = j + 1\n",
    "            \n",
    "        if data_bl[i][j] != 0:\n",
    "            data_bl[i][j] = j + 1\n",
    "        \n",
    "        else:\n",
    "            pass"
   ]
  },
  {
   "cell_type": "code",
   "execution_count": 10,
   "metadata": {},
   "outputs": [],
   "source": [
    "lineoffsets1 = [i+1 for i in range(25)]\n",
    "linelengths1 = [0.5 for i in range(25)]\n",
    "colors1 = ['C{}'.format(i) for i in range(25)]"
   ]
  },
  {
   "cell_type": "code",
   "execution_count": 11,
   "metadata": {},
   "outputs": [],
   "source": [
    "color_set = ['blue', 'red', 'green', 'black']\n",
    "x_range = np.linspace(1, 25, 25, endpoint=True)"
   ]
  },
  {
   "cell_type": "code",
   "execution_count": 12,
   "metadata": {},
   "outputs": [
    {
     "data": {
      "text/plain": [
       "array([ 1.,  2.,  3.,  4.,  5.,  6.,  7.,  8.,  9., 10., 11., 12., 13.,\n",
       "       14., 15., 16., 17., 18., 19., 20., 21., 22., 23., 24., 25.])"
      ]
     },
     "execution_count": 12,
     "metadata": {},
     "output_type": "execute_result"
    }
   ],
   "source": [
    "x_range"
   ]
  },
  {
   "cell_type": "code",
   "execution_count": 17,
   "metadata": {},
   "outputs": [
    {
     "data": {
      "image/png": "[encoded data removed]",
      "text/plain": [
       "<Figure size 1152x648 with 4 Axes>"
      ]
     },
     "metadata": {
      "needs_background": "light"
     },
     "output_type": "display_data"
    }
   ],
   "source": [
    "fig, axs = plt.subplots()\n",
    "twin1, twin2, twin3 = axs.twinx(), axs.twinx(), axs.twinx()\n",
    "\n",
    "axs.eventplot(data_tl, \n",
    "              colors='blue', \n",
    "              lineoffsets=lineoffsets1, \n",
    "              linelengths=linelengths1,\n",
    "              orientation='vertical')\n",
    "\n",
    "twin1.eventplot(cs[1], \n",
    "                colors='red', \n",
    "                lineoffsets=lineoffsets1, \n",
    "                linelengths=linelengths1,\n",
    "                orientation='vertical')\n",
    "\n",
    "twin2.eventplot(cs[2], \n",
    "                colors='green', \n",
    "                lineoffsets=lineoffsets1, \n",
    "                linelengths=linelengths1,\n",
    "                orientation='vertical')\n",
    "\n",
    "twin3.eventplot(cs[3], \n",
    "                colors='black', \n",
    "                lineoffsets=lineoffsets1, \n",
    "                linelengths=linelengths1,\n",
    "                orientation='vertical')\n",
    "\n",
    "axs.set_xlim(0.5, 25.5)\n",
    "axs.set_ylim(0.5, 10.5)\n",
    "twin1.set_ylim(0.5, 10.5)\n",
    "twin2.set_ylim(0.5, 10.5)\n",
    "twin3.set_ylim(0.5, 10.5)\n",
    "\n",
    "axs.set_xticks(x_range)\n",
    "axs.set_yticks([1, 2, 3, 4, 5, 6, 7, 8, 9, 10])\n",
    "twin1.set_yticks([1, 2, 3, 4, 5, 6, 7, 8, 9, 10])\n",
    "twin2.set_yticks([1, 2, 3, 4, 5, 6, 7, 8, 9, 10])\n",
    "twin3.set_yticks([1, 2, 3, 4, 5, 6, 7, 8, 9, 10])\n",
    "\n",
    "axs.set_ylabel(\"Repetitions\", fontsize = 14)\n",
    "axs.set_xlabel(\"Time units\", fontsize = 14)\n",
    "axs.set_title(\"Raster plot for the first circuit - first simulation pattern \\n under 10 repetitions. \\n [B, R, G, K] <-> [Tl, Tr, Br, Bl]\",\n",
    "              fontsize = 16)\n",
    "# axs.legend()\n",
    "\n",
    "fig.set_size_inches(16, 9)\n",
    "fig.savefig('test.png', dpi=600)"
   ]
  },
  {
   "cell_type": "code",
   "execution_count": null,
   "metadata": {},
   "outputs": [],
   "source": []
  },
  {
   "cell_type": "markdown",
   "metadata": {},
   "source": [
    "# Recycle Bin"
   ]
  },
  {
   "cell_type": "code",
   "execution_count": 14,
   "metadata": {},
   "outputs": [],
   "source": [
    "# trial_1 = group[0]\n",
    "# color_tl, color_tr, color_bl, color_br = [], [], [], []\n",
    "\n",
    "# for i in range(25):\n",
    "#     for j in range(4):\n",
    "#         if trial_1[i][j] == 0.0:\n",
    "#             if j == 0:\n",
    "#                 color_tl.append('white')\n",
    "#             elif j == 1:\n",
    "#                 color_tr.append('white')\n",
    "#             elif j == 2:\n",
    "#                 color_br.append('white')\n",
    "#             else:\n",
    "#                 color_bl.append('white')\n",
    "#         else:\n",
    "#             if j == 0:\n",
    "#                 color_tl.append('blue')\n",
    "#             elif j == 1:\n",
    "#                 color_tr.append('red')\n",
    "#             elif j == 2:\n",
    "#                 color_br.append('green')\n",
    "#             else:\n",
    "#                 color_bl.append('black')"
   ]
  },
  {
   "cell_type": "code",
   "execution_count": 15,
   "metadata": {},
   "outputs": [],
   "source": [
    "# axs.eventplot(data_tr, \n",
    "#               colors='red', \n",
    "#               lineoffsets=lineoffsets1, \n",
    "#               linelengths=linelengths1,\n",
    "#               orientation='vertical')\n",
    "\n",
    "# axs.eventplot(data_br, \n",
    "#               colors='green', \n",
    "#               lineoffsets=lineoffsets1, \n",
    "#               linelengths=linelengths1,\n",
    "#               orientation='vertical')\n",
    "\n",
    "# axs.eventplot(data_bl, \n",
    "#               colors='black', \n",
    "#               lineoffsets=lineoffsets1, \n",
    "#               linelengths=linelengths1,\n",
    "#               orientation='vertical')"
   ]
  }
 ],
 "metadata": {
  "kernelspec": {
   "display_name": "Python 3",
   "language": "python",
   "name": "python3"
  },
  "language_info": {
   "codemirror_mode": {
    "name": "ipython",
    "version": 3
   },
   "file_extension": ".py",
   "mimetype": "text/x-python",
   "name": "python",
   "nbconvert_exporter": "python",
   "pygments_lexer": "ipython3",
   "version": "3.8.8"
  }
 },
 "nbformat": 4,
 "nbformat_minor": 2
}
