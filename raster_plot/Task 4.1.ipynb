{
 "cells": [
  {
   "cell_type": "code",
   "execution_count": null,
   "metadata": {},
   "outputs": [],
   "source": [
    "import matplotlib.pyplot as plt\n",
    "import numpy as np\n",
    "import matplotlib\n",
    "matplotlib.rcParams['font.size'] = 8.0"
   ]
  },
  {
   "cell_type": "code",
   "execution_count": null,
   "metadata": {},
   "outputs": [],
   "source": [
    "filename = 'C:/Users/yyoon.ces/Downloads/histograms.npy'\n",
    "data = np.load(filename)"
   ]
  },
  {
   "cell_type": "code",
   "execution_count": null,
   "metadata": {},
   "outputs": [],
   "source": [
    "np.shape(data)"
   ]
  },
  {
   "cell_type": "code",
   "execution_count": null,
   "metadata": {},
   "outputs": [],
   "source": [
    "group = []\n",
    "\n",
    "for i in range(10):\n",
    "    group.append(data[0, 0, i]) # extract the first simulation pattern of the first circuit"
   ]
  },
  {
   "cell_type": "code",
   "execution_count": null,
   "metadata": {},
   "outputs": [],
   "source": [
    "np.shape(group) # ten repetitions "
   ]
  },
  {
   "cell_type": "code",
   "execution_count": null,
   "metadata": {},
   "outputs": [],
   "source": [
    "group[2]"
   ]
  },
  {
   "cell_type": "code",
   "execution_count": null,
   "metadata": {},
   "outputs": [],
   "source": [
    "cs = np.transpose(group) # transpose the array into 4*25*10\n",
    "np.shape(cs[0])\n",
    "# cs[0], cs[1], cs[2], and cs[3] correspond to top left, top right, bottom right, and bottom left, resp."
   ]
  },
  {
   "cell_type": "code",
   "execution_count": null,
   "metadata": {},
   "outputs": [],
   "source": [
    "data_tl, data_tr, data_br, data_bl = cs[0], cs[1], cs[2], cs[3]"
   ]
  },
  {
   "cell_type": "code",
   "execution_count": null,
   "metadata": {},
   "outputs": [],
   "source": [
    "for i in range(25):\n",
    "    for j in range(10):\n",
    "        if data_tl[i][j] != 0:\n",
    "            data_tl[i][j] = j + 1\n",
    "            \n",
    "        if data_tr[i][j] != 0:\n",
    "            data_tr[i][j] = j + 1\n",
    "            \n",
    "        if data_br[i][j] != 0:\n",
    "            data_br[i][j] = j + 1\n",
    "            \n",
    "        if data_bl[i][j] != 0:\n",
    "            data_bl[i][j] = j + 1\n",
    "        \n",
    "        else:\n",
    "            pass"
   ]
  },
  {
   "cell_type": "code",
   "execution_count": null,
   "metadata": {},
   "outputs": [],
   "source": [
    "lineoffsets1 = [i+1 for i in range(25)]\n",
    "linelengths1 = [0.5 for i in range(25)]\n",
    "color_set = ['blue', 'red', 'green', 'black']\n",
    "x_range = np.linspace(1, 25, 25, endpoint=True)\n",
    "axes_grp = ['axs', 'twin1', 'twin2', 'twin3']"
   ]
  },
  {
   "cell_type": "code",
   "execution_count": null,
   "metadata": {},
   "outputs": [],
   "source": [
    "fig, axs = plt.subplots()\n",
    "twin1, twin2, twin3 = axs.twinx(), axs.twinx(), axs.twinx()\n",
    "\n",
    "axs.eventplot(data_tl, \n",
    "              colors='blue', \n",
    "              lineoffsets=lineoffsets1, \n",
    "              linelengths=linelengths1,\n",
    "              orientation='vertical')\n",
    "\n",
    "twin1.eventplot(data_tr, \n",
    "                colors='red', \n",
    "                lineoffsets=lineoffsets1, \n",
    "                linelengths=linelengths1,\n",
    "                orientation='vertical')\n",
    "\n",
    "twin2.eventplot(data_br, \n",
    "                colors='green', \n",
    "                lineoffsets=lineoffsets1, \n",
    "                linelengths=linelengths1,\n",
    "                orientation='vertical')\n",
    "\n",
    "twin3.eventplot(data_bl, \n",
    "                colors='black', \n",
    "                lineoffsets=lineoffsets1, \n",
    "                linelengths=linelengths1,\n",
    "                orientation='vertical')\n",
    "\n",
    "axs.set_xlim(0.5, 25.5)\n",
    "axs.set_ylim(0.5, 10.5)\n",
    "twin1.set_ylim(0.5, 10.5)\n",
    "twin2.set_ylim(0.5, 10.5)\n",
    "twin3.set_ylim(0.5, 10.5)\n",
    "\n",
    "axs.set_xticks(x_range)\n",
    "axs.set_yticks([1, 2, 3, 4, 5, 6, 7, 8, 9, 10])\n",
    "twin1.set_yticks([1, 2, 3, 4, 5, 6, 7, 8, 9, 10])\n",
    "twin2.set_yticks([1, 2, 3, 4, 5, 6, 7, 8, 9, 10])\n",
    "twin3.set_yticks([1, 2, 3, 4, 5, 6, 7, 8, 9, 10])\n",
    "\n",
    "axs.set_ylabel(\"Repetitions\", fontsize = 14)\n",
    "axs.set_xlabel(\"Time units\", fontsize = 14)\n",
    "axs.set_title(\"Raster plot for the first circuit - first simulation pattern \\n under 10 repetitions. \\n [B, R, G, K] <-> [Tl, Tr, Br, Bl]\",\n",
    "              fontsize = 16)\n",
    "\n",
    "fig.set_size_inches(16, 9)\n",
    "#fig.savefig('test.png', dpi=600)"
   ]
  },
  {
   "cell_type": "code",
   "execution_count": null,
   "metadata": {},
   "outputs": [],
   "source": []
  },
  {
   "cell_type": "markdown",
   "metadata": {},
   "source": [
    "# Recycle Bin"
   ]
  },
  {
   "cell_type": "code",
   "execution_count": null,
   "metadata": {},
   "outputs": [],
   "source": [
    "# trial_1 = group[0]\n",
    "# color_tl, color_tr, color_bl, color_br = [], [], [], []\n",
    "\n",
    "# for i in range(25):\n",
    "#     for j in range(4):\n",
    "#         if trial_1[i][j] == 0.0:\n",
    "#             if j == 0:\n",
    "#                 color_tl.append('white')\n",
    "#             elif j == 1:\n",
    "#                 color_tr.append('white')\n",
    "#             elif j == 2:\n",
    "#                 color_br.append('white')\n",
    "#             else:\n",
    "#                 color_bl.append('white')\n",
    "#         else:\n",
    "#             if j == 0:\n",
    "#                 color_tl.append('blue')\n",
    "#             elif j == 1:\n",
    "#                 color_tr.append('red')\n",
    "#             elif j == 2:\n",
    "#                 color_br.append('green')\n",
    "#             else:\n",
    "#                 color_bl.append('black')"
   ]
  },
  {
   "cell_type": "code",
   "execution_count": null,
   "metadata": {},
   "outputs": [],
   "source": [
    "# axs.eventplot(data_tr, \n",
    "#               colors='red', \n",
    "#               lineoffsets=lineoffsets1, \n",
    "#               linelengths=linelengths1,\n",
    "#               orientation='vertical')\n",
    "\n",
    "# axs.eventplot(data_br, \n",
    "#               colors='green', \n",
    "#               lineoffsets=lineoffsets1, \n",
    "#               linelengths=linelengths1,\n",
    "#               orientation='vertical')\n",
    "\n",
    "# axs.eventplot(data_bl, \n",
    "#               colors='black', \n",
    "#               lineoffsets=lineoffsets1, \n",
    "#               linelengths=linelengths1,\n",
    "#               orientation='vertical')"
   ]
  }
 ],
 "metadata": {
  "kernelspec": {
   "display_name": "Python 3",
   "language": "python",
   "name": "python3"
  },
  "language_info": {
   "codemirror_mode": {
    "name": "ipython",
    "version": 3
   },
   "file_extension": ".py",
   "mimetype": "text/x-python",
   "name": "python",
   "nbconvert_exporter": "python",
   "pygments_lexer": "ipython3",
   "version": "3.8.8"
  }
 },
 "nbformat": 4,
 "nbformat_minor": 2
}
